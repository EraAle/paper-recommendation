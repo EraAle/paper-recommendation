{
 "cells": [
  {
   "cell_type": "code",
   "execution_count": 5,
   "id": "3e61b932",
   "metadata": {},
   "outputs": [
    {
     "name": "stdout",
     "output_type": "stream",
     "text": [
      "# 리서치 카드 요약\n",
      "\n",
      "## 1. A Simple Baseline for Multimodal RAG  \n",
      "**제목**: A Simple Baseline for Multimodal RAG  \n",
      "**연도**: N/A  \n",
      "**출처**: https://example.org/paper1  \n",
      "**TL;DR**: 이미지와 텍스트 증거를 결합해 RAG를 개선하는 간단한 기반 제공.  \n",
      "**왜 관련?**: RAG에서 다차원 증거 통합 필요, 이 연구는 텍스트와 이미지의 병합을 시도.  \n",
      "**핵심 기여**: 이미지와 텍스트 증거 결합, QA 성능 향상.  \n",
      "**한계/주의**: 구체적인 성능 수치 미기재.  \n",
      "**난이도**: 중 (30~40분)  \n",
      "**해시태그**: #MultimodalRAG, #RAGBaselines  \n",
      "\n",
      "## 2. Audio-RAG: Integrating Speech Evidence into Generative QA  \n",
      "**제목**: Audio-RAG: Integrating Speech Evidence into Generative QA  \n",
      "**연도**: N/A  \n",
      "**출처**: https://example.org/paper6  \n",
      "**TL;DR**: 음성 증거(ASR 텍스트, 음향 신호)를 포함해 음성 질문 대응을 개선.  \n",
      "**왜 관련?**: 음성 질문이 일반적이므로, 오디오 증거 통합이 중요.  \n",
      "**핵심 기여**: 음성 데이터 활용, 스피치 QA 성능 향상.  \n",
      "**한계/주의**: 오디오 처리 복잡성, 구체적 성능 수치 미기재.  \n",
      "**난이도**: 중 (30~40분)  \n",
      "**해시태그**: #AudioRAG, #SpokenQA  \n",
      "\n",
      "## Top-K 비교표  \n",
      "| 순위 | 제목 | 방법(한줄) | 데이터/스케일 | 핵심성능(있으면) | 관련성(0–5) | 난이도 | 링크 |  \n",
      "|------|------|-------------|----------------|------------------|-------------|-------|--------|  \n",
      "| 1    | A Simple Baseline for Multimodal RAG | 이미지 + 텍스트 증거 결합 | QA 테스트셋 | RAG 성능 향상 | 4/5 | 중 | [paper1](https://example.org/paper1) |  \n",
      "| 2    | Audio-RAG: Integrating Speech Evidence into Generative QA | 오디오 증거 통합 | 음성 QA 데이터 | 스피치 QA 성능 향상 | 3/5 | 중 | [paper6](https://example.org/paper6) |\n"
     ]
    }
   ],
   "source": [
    "import re\n",
    "FINAL_RE = re.compile(r\"<\\s*final\\s*>(.*?)<\\s*/\\s*final\\s*>\", re.DOTALL | re.IGNORECASE)\n",
    "\n",
    "text = \"\"\"<final>\n",
    "# 리서치 카드 요약\n",
    "\n",
    "## 1. A Simple Baseline for Multimodal RAG  \n",
    "**제목**: A Simple Baseline for Multimodal RAG  \n",
    "**연도**: N/A  \n",
    "**출처**: https://example.org/paper1  \n",
    "**TL;DR**: 이미지와 텍스트 증거를 결합해 RAG를 개선하는 간단한 기반 제공.  \n",
    "**왜 관련?**: RAG에서 다차원 증거 통합 필요, 이 연구는 텍스트와 이미지의 병합을 시도.  \n",
    "**핵심 기여**: 이미지와 텍스트 증거 결합, QA 성능 향상.  \n",
    "**한계/주의**: 구체적인 성능 수치 미기재.  \n",
    "**난이도**: 중 (30~40분)  \n",
    "**해시태그**: #MultimodalRAG, #RAGBaselines  \n",
    "\n",
    "## 2. Audio-RAG: Integrating Speech Evidence into Generative QA  \n",
    "**제목**: Audio-RAG: Integrating Speech Evidence into Generative QA  \n",
    "**연도**: N/A  \n",
    "**출처**: https://example.org/paper6  \n",
    "**TL;DR**: 음성 증거(ASR 텍스트, 음향 신호)를 포함해 음성 질문 대응을 개선.  \n",
    "**왜 관련?**: 음성 질문이 일반적이므로, 오디오 증거 통합이 중요.  \n",
    "**핵심 기여**: 음성 데이터 활용, 스피치 QA 성능 향상.  \n",
    "**한계/주의**: 오디오 처리 복잡성, 구체적 성능 수치 미기재.  \n",
    "**난이도**: 중 (30~40분)  \n",
    "**해시태그**: #AudioRAG, #SpokenQA  \n",
    "\n",
    "## Top-K 비교표  \n",
    "| 순위 | 제목 | 방법(한줄) | 데이터/스케일 | 핵심성능(있으면) | 관련성(0–5) | 난이도 | 링크 |  \n",
    "|------|------|-------------|----------------|------------------|-------------|-------|--------|  \n",
    "| 1    | A Simple Baseline for Multimodal RAG | 이미지 + 텍스트 증거 결합 | QA 테스트셋 | RAG 성능 향상 | 4/5 | 중 | [paper1](https://example.org/paper1) |  \n",
    "| 2    | Audio-RAG: Integrating Speech Evidence into Generative QA | 오디오 증거 통합 | 음성 QA 데이터 | 스피치 QA 성능 향상 | 3/5 | 중 | [paper6](https://example.org/paper6) |  \n",
    "</final>\"\"\"\n",
    "match = re.search(FINAL_RE, text)\n",
    "print(match.group(1).strip())"
   ]
  },
  {
   "cell_type": "code",
   "execution_count": 9,
   "id": "8f81b0a6",
   "metadata": {},
   "outputs": [],
   "source": [
    "import torch"
   ]
  }
 ],
 "metadata": {
  "kernelspec": {
   "display_name": "paper-recommendation",
   "language": "python",
   "name": "python3"
  },
  "language_info": {
   "codemirror_mode": {
    "name": "ipython",
    "version": 3
   },
   "file_extension": ".py",
   "mimetype": "text/x-python",
   "name": "python",
   "nbconvert_exporter": "python",
   "pygments_lexer": "ipython3",
   "version": "3.12.3"
  }
 },
 "nbformat": 4,
 "nbformat_minor": 5
}
