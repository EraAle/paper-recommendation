{
 "cells": [
  {
   "cell_type": "code",
   "execution_count": null,
   "id": "3e61b932",
   "metadata": {},
   "outputs": [
    {
     "ename": "",
     "evalue": "",
     "output_type": "error",
     "traceback": [
      "\u001b[1;31mThe kernel failed to start as the Python Environment 'Python 3.12.3' is no longer available. Consider selecting another kernel or refreshing the list of Python Environments."
     ]
    }
   ],
   "source": [
    "from rank_bm25 import BM25Okapi\n",
    "\n",
    "corpus = [\n",
    "    \"서울은 한국의 수도입니다.\",\n",
    "    \"부산은 해양 도시입니다.\",\n",
    "    \"제주는 아름다운 섬입니다.\"\n",
    "]\n",
    "\n",
    "tokenized_corpus = [doc.split() for doc in corpus]\n",
    "bm25 = BM25Okapi(tokenized_corpus)\n",
    "\n",
    "query = \"한국의 수도\"JJ\n",
    "tokenized_query = query.split()\n",
    "scores = bm25.get_scores(tokenized_query)\n",
    "\n",
    "print(scores)  # 각 문서에 대한 BM25 점수 출력"
   ]
  }
 ],
 "metadata": {
  "kernelspec": {
   "display_name": "Python 3",
   "language": "python",
   "name": "python3"
  },
  "language_info": {
   "name": "python",
   "version": "3.12.3"
  }
 },
 "nbformat": 4,
 "nbformat_minor": 5
}
